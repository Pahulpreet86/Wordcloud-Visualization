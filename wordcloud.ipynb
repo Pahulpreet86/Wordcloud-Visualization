{
 "cells": [
  {
   "cell_type": "code",
   "execution_count": 20,
   "metadata": {},
   "outputs": [],
   "source": [
    "import socket\n",
    "import sys\n",
    "import requests\n",
    "import requests_oauthlib\n",
    "import json\n",
    "import numpy as np\n",
    "from PIL import Image\n",
    "import os\n",
    "import matplotlib.pyplot as plt\n",
    "import random\n",
    "from wordcloud import WordCloud\n",
    "%matplotlib qt\n",
    "# Replace the values below with yours\n",
    "ACCESS_TOKEN = ''\n",
    "ACCESS_SECRET = ''\n",
    "CONSUMER_KEY = ''\n",
    "CONSUMER_SECRET = ''\n",
    "my_auth = requests_oauthlib.OAuth1(CONSUMER_KEY, CONSUMER_SECRET,ACCESS_TOKEN, ACCESS_SECRET)\n",
    "\n",
    "\n",
    "dict_woeid={23424977:\"United States\",23424856:\"Japan\",23424975:\"United Kingdom\",23424938:\"Saudi Arabia\",23424969:\"Turkey\",23424768:\"Brazil\",23424848:\"India\",23424900:\"Mexico\",23424950:\"Spain\",23424819:\"France\"}\n",
    "\n",
    "def grey_color_func(word, font_size, position, orientation, random_state=None,\n",
    "                    **kwargs):\n",
    "    return \"hsl(0, 0%%, %d%%)\" % random.randint(60, 100)\n",
    "\n",
    "def word_cloud(woeid,string):\n",
    "    mask = np.array(Image.open(str(woeid)+\".png\"))\n",
    "    wc = WordCloud(mask=mask, margin=10,random_state=1).generate(string)\n",
    "    plt.figure()\n",
    "    plt.title(\"Top Trending Tweets in \"+(dict_woeid[woeid]))\n",
    "    plt.imshow(wc.recolor(color_func=grey_color_func, random_state=3),interpolation=\"bilinear\")\n",
    "    #wc.to_file(dict_woeid[woeid]+\".png\")\n",
    "    plt.axis(\"off\")\n",
    "    plt.tight_layout()\n",
    "    plt.show()\n",
    "    plt.savefig(dict_woeid[woeid]+\".png\")\n",
    "\n",
    "def trending_tweets(woeid):\n",
    "    url = 'https://api.twitter.com/1.1/trends/place.json?id='+str(woeid)\n",
    "    print(url)\n",
    "    response = requests.get(url, auth=my_auth, stream=True)\n",
    "    trend=response.json()[0][\"trends\"]\n",
    "    newlists=[tweet[\"name\"] for tweet in trend]\n",
    "    string=\"\"\n",
    "    for itr in range(0,len(newlists)):\n",
    "        string=string+\" \" +newlists[itr].replace(\"#\",\" \")\n",
    "        \n",
    "    word_cloud(woeid,string)\n",
    "    \n",
    "\n",
    "for key in dict_woeid.keys():\n",
    "    trending_tweets(key)"
   ]
  }
 ],
 "metadata": {
  "kernelspec": {
   "display_name": "Python 3",
   "language": "python",
   "name": "python3"
  },
  "language_info": {
   "codemirror_mode": {
    "name": "ipython",
    "version": 3
   },
   "file_extension": ".py",
   "mimetype": "text/x-python",
   "name": "python",
   "nbconvert_exporter": "python",
   "pygments_lexer": "ipython3",
   "version": "3.6.5"
  }
 },
 "nbformat": 4,
 "nbformat_minor": 2
}
